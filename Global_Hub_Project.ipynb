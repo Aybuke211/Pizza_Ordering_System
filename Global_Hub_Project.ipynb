{
  "nbformat": 4,
  "nbformat_minor": 0,
  "metadata": {
    "colab": {
      "provenance": [],
      "authorship_tag": "ABX9TyMIYQTJen92u+mkw9tvufak",
      "include_colab_link": true
    },
    "kernelspec": {
      "name": "python3",
      "display_name": "Python 3"
    },
    "language_info": {
      "name": "python"
    }
  },
  "cells": [
    {
      "cell_type": "markdown",
      "metadata": {
        "id": "view-in-github",
        "colab_type": "text"
      },
      "source": [
        "<a href=\"https://colab.research.google.com/github/Aybuke211/Pizza_Ordering_System/blob/main/Global_Hub_Project.ipynb\" target=\"_parent\"><img src=\"https://colab.research.google.com/assets/colab-badge.svg\" alt=\"Open In Colab\"/></a>"
      ]
    },
    {
      "cell_type": "code",
      "source": [
        "import csv\n",
        "import datetime\n",
        "\n",
        "\n",
        "\n",
        "# Veritabanı oluşturuluyor\n",
        "import sqlite3\n",
        "vt = sqlite3.connect('Orders_Database.csv.sqlite')\n",
        "im = vt.cursor()\n",
        "im.execute(\"CREATE TABLE sipariş_bilgileri(kullanıcı_adı, kullanıcı_kimliği, kredi_kartı_bilgileri,sipariş_açıklaması,sipariş_zamanı, kredi_kartışifresi) \")\n"
      ],
      "metadata": {
        "id": "lfieK1SKr982",
        "colab": {
          "base_uri": "https://localhost:8080/",
          "height": 203
        },
        "outputId": "8d3ef1c0-7545-4b22-8bf5-eb0786df9deb"
      },
      "execution_count": 114,
      "outputs": [
        {
          "output_type": "error",
          "ename": "OperationalError",
          "evalue": "ignored",
          "traceback": [
            "\u001b[0;31m---------------------------------------------------------------------------\u001b[0m",
            "\u001b[0;31mOperationalError\u001b[0m                          Traceback (most recent call last)",
            "\u001b[0;32m<ipython-input-114-50b4c5ab4af5>\u001b[0m in \u001b[0;36m<module>\u001b[0;34m\u001b[0m\n\u001b[1;32m      8\u001b[0m \u001b[0mvt\u001b[0m \u001b[0;34m=\u001b[0m \u001b[0msqlite3\u001b[0m\u001b[0;34m.\u001b[0m\u001b[0mconnect\u001b[0m\u001b[0;34m(\u001b[0m\u001b[0;34m'Orders_Database.csv.sqlite'\u001b[0m\u001b[0;34m)\u001b[0m\u001b[0;34m\u001b[0m\u001b[0;34m\u001b[0m\u001b[0m\n\u001b[1;32m      9\u001b[0m \u001b[0mim\u001b[0m \u001b[0;34m=\u001b[0m \u001b[0mvt\u001b[0m\u001b[0;34m.\u001b[0m\u001b[0mcursor\u001b[0m\u001b[0;34m(\u001b[0m\u001b[0;34m)\u001b[0m\u001b[0;34m\u001b[0m\u001b[0;34m\u001b[0m\u001b[0m\n\u001b[0;32m---> 10\u001b[0;31m \u001b[0mim\u001b[0m\u001b[0;34m.\u001b[0m\u001b[0mexecute\u001b[0m\u001b[0;34m(\u001b[0m\u001b[0;34m\"CREATE TABLE sipariş_bilgileri(kullanıcı_adı, kullanıcı_kimliği, kredi_kartı_bilgileri,sipariş_açıklaması,sipariş_zamanı, kredi_kartışifresi) \"\u001b[0m\u001b[0;34m)\u001b[0m\u001b[0;34m\u001b[0m\u001b[0;34m\u001b[0m\u001b[0m\n\u001b[0m",
            "\u001b[0;31mOperationalError\u001b[0m: table sipariş_bilgileri already exists"
          ]
        }
      ]
    },
    {
      "cell_type": "code",
      "source": [
        "# menü dosyası oluşturuldu.\n",
        "menu = open(\"menu.txt\", \"x\")"
      ],
      "metadata": {
        "id": "GO4SQVosRsfz"
      },
      "execution_count": 8,
      "outputs": []
    },
    {
      "cell_type": "code",
      "source": [
        "menu = open(\"menu.txt\", \"a\")\n",
        "menu.write(\"Lütfen Bir Pizza Tabanı ve Sosu Seçiniz:\\n Pizza Tabanları:\\n 1: Klasik\\n 2: Margarita\\n 3: TürkPizza\\n 4: SadePizza\\n Pizza Sosları:\\n 11: Zeytin\\n 12: Mantarlar\\n 13: Keçi Peyniri\\n 14: Et\\n 15: Soğan\\n 16: Mısır\\n Teşekkür Ederiz!\")\n",
        "\n"
      ],
      "metadata": {
        "id": "2yWRilDkSw_4",
        "colab": {
          "base_uri": "https://localhost:8080/"
        },
        "outputId": "217bdacc-a49c-4f57-c869-e53fc9117dee"
      },
      "execution_count": 9,
      "outputs": [
        {
          "output_type": "execute_result",
          "data": {
            "text/plain": [
              "220"
            ]
          },
          "metadata": {},
          "execution_count": 9
        }
      ]
    },
    {
      "cell_type": "code",
      "source": [
        "menu = open(\"menu.txt\", \"r\")\n",
        "print(menu.read())"
      ],
      "metadata": {
        "colab": {
          "base_uri": "https://localhost:8080/"
        },
        "id": "Yjihs8XaVIAw",
        "outputId": "13bd82bf-f05b-4d5d-8d70-975d4bfe231b"
      },
      "execution_count": 11,
      "outputs": [
        {
          "output_type": "stream",
          "name": "stdout",
          "text": [
            "Lütfen Bir Pizza Tabanı ve Sosu Seçiniz:\n",
            " Pizza Tabanları:\n",
            " 1: Klasik\n",
            " 2: Margarita\n",
            " 3: TürkPizza\n",
            " 4: SadePizza\n",
            " Pizza Sosları:\n",
            " 11: Zeytin\n",
            " 12: Mantarlar\n",
            " 13: Keçi Peyniri\n",
            " 14: Et\n",
            " 15: Soğan\n",
            " 16: Mısır\n",
            " Teşekkür Ederiz!\n"
          ]
        }
      ]
    },
    {
      "cell_type": "code",
      "source": [
        "# Üst sınıf olarak Pizza sınıfı oluşturuldu.\n",
        "class Pizza:\n",
        "  def __init__(self,description,cost):\n",
        "    self.descript = description\n",
        "    self.price = float(cost)\n",
        "  def get_description(self):   # instance method\n",
        "    print(f'pizza adı: {self.descript}')\n",
        "  def get_cost(self):         # instance method\n",
        "    print(f'pizza fiyatı: {self.price}₺')\n",
        "\n",
        "class Sos:\n",
        "  def __init__(self,description,cost):\n",
        "    self.descript = description\n",
        "    self.price = float(cost)\n",
        "  def get_description(self):   # instance method\n",
        "    print(f'Sos adı: {self.descript}')\n",
        "  def get_cost(self):         # instance method\n",
        "    print(f'sos fiyatı: {self.price}₺')\n",
        "\n",
        "\n",
        "\n",
        "\n"
      ],
      "metadata": {
        "id": "m6mPkb9omNVf"
      },
      "execution_count": 106,
      "outputs": []
    },
    {
      "cell_type": "code",
      "source": [
        "# Her bir pizza sınıfı için alt pizza sınıfları oluşturuldu.\n",
        "class ClassicPizza(Pizza):\n",
        "    def __init__(self):\n",
        "        super().__init__(\"Klasik Pizza\", 215)\n",
        " \n",
        "class MargheritaPizza(Pizza):\n",
        "    def __init__(self):\n",
        "        super().__init__(\"Margarita Pizza\", 226)\n",
        " \n",
        "class TurkishPizza(Pizza):\n",
        "    def __init__(self):\n",
        "        super().__init__(\"Türk Pizza\", 254)\n",
        "\n",
        "class SadePizza(Pizza):\n",
        "    def __init__(self):\n",
        "        super().__init__(\"Sade Pizza\", 206)"
      ],
      "metadata": {
        "id": "DfPZqJOX29e5"
      },
      "execution_count": 91,
      "outputs": []
    },
    {
      "cell_type": "code",
      "source": [
        "class PizzaDecorator(Pizza):\n",
        "    def __init__(self, pizza):\n",
        "        super().__init__(pizza.get_description(), pizza.get_cost())\n",
        "        self._pizza = pizza\n",
        "\n",
        "    def get_description(self):\n",
        "        return self._pizza.get_description()\n",
        "\n",
        "    def get_cost(self):\n",
        "        return float(self._pizza.get_cost())\n",
        "\n",
        "class SosDecorator(Sos):\n",
        "    def __init__(self,sos):\n",
        "        super().__init__(sos.get_description(), sos.get_cost())\n",
        "        self._sos = sos\n",
        "\n",
        "    def get_description(self):\n",
        "        return self.sos.get_description()\n",
        "\n",
        "    def get_cost(self):\n",
        "        return float(self.sos.get_cost())"
      ],
      "metadata": {
        "id": "y1sDt52PoqP7"
      },
      "execution_count": 104,
      "outputs": []
    },
    {
      "cell_type": "code",
      "source": [
        "# Her bir sos için alt sınıflar oluşturuldu.\n",
        "class Olive(Sos):\n",
        "    def __init__(self):\n",
        "        super().__init__(\"Zeytin\",5.0)\n",
        "    \n",
        " \n",
        "class Mushroom(SosDecorator):\n",
        "    def __init__(self, Sos):\n",
        "        super().__init__(Sos)\n",
        "        self._description = \"Mantarlar\"\n",
        "        self._cost = 4.0\n",
        "\n",
        "class GoatCheese(SosDecorator):\n",
        "    def __init__(self, Sos):\n",
        "        super().__init__(Sos)\n",
        "        self._description = \"Keçi Peyniri\"\n",
        "        self._cost = 6.0\n",
        "\n",
        "class Meat(SosDecorator):\n",
        "    def __init__(self, Sos):\n",
        "        super().__init__(Sos)\n",
        "        self._description = \"Et\"\n",
        "        self._cost = 8.0\n",
        "\n",
        "class Onion(SosDecorator):\n",
        "    def __init__(self, Sos):\n",
        "        super().__init__(Sos)\n",
        "        self._description = \"Soğan\"\n",
        "        self._cost = 3.0\n",
        "\n",
        "class Corn(SosDecorator):\n",
        "    def __init__(self, Sos):\n",
        "        super().__init__()\n",
        "        self._description = \"Mısır\"\n",
        "        self._cost = 4.5\n"
      ],
      "metadata": {
        "id": "K8G84C-xpVOw"
      },
      "execution_count": 93,
      "outputs": []
    },
    {
      "cell_type": "code",
      "source": [
        "import csv\n",
        "import datetime\n",
        "\n",
        "def main():\n",
        "    # Menüyü yazdırma\n",
        "    print(\"* Lütfen Bir Pizza Tabanı Seçiniz:\")\n",
        "    print(\"1: Klasik\")\n",
        "    print(\"2: Margarita\")\n",
        "    print(\"3: TürkPizza\")\n",
        "    print(\"4: Sade Pizza\")\n",
        "    print(\"* ve seçeceğiniz sos:\")\n",
        "    print(\"11: Zeytin\")\n",
        "    print(\"12: Mantarlar\")\n",
        "    print(\"13: Keçi Peyniri\")\n",
        "    print(\"14: Et\")\n",
        "    print(\"15: Soğan\")\n",
        "    print(\"16: Mısır\")\n",
        "    print(\"* Teşekkür ederiz! \\n\")\n",
        "\n",
        "    # Kullanıcının pizza seçmesine ve pizzanın üstüne sos eklemesine izin verme\n",
        "    pizza = None\n",
        "    sos =  None\n",
        "    while not pizza:\n",
        "        pizza_choice = input(\"Lütfen bir pizza seçin (1-4): \")\n",
        "        if pizza_choice == \"1\":\n",
        "            pizza = ClassicPizza()\n",
        "        elif pizza_choice == \"2\":\n",
        "            pizza = MargheritaPizza()\n",
        "        elif pizza_choice == \"3\":\n",
        "            pizza = TurkishPizza()\n",
        "        elif pizza_choice == \"4\":\n",
        "            pizza = SadePizza()\n",
        "        else:\n",
        "            print(\"Lütfen geçerli bir pizza seçeneği girin (1-4)\")\n",
        "\n",
        "    while True:\n",
        "        sos_choice = input(\"Lütfen bir sos seçin (11-16) ya da devam etmek için 'q' girin: \")\n",
        "        if sos_choice == \"q\":\n",
        "            break\n",
        "        elif sos_choice == \"11\":\n",
        "            sos = Olive()\n",
        "        elif sos_choice == \"12\":\n",
        "            sos = Mushroom()\n",
        "        elif sos_choice == \"13\":\n",
        "            sos = GoatCheese()\n",
        "        elif sos_choice == \"14\":\n",
        "            sos = Meat()\n",
        "        elif sos_choice == \"15\":\n",
        "            sos = Onion()\n",
        "        elif sos_choice == \"16\":\n",
        "            sos = Corn()\n",
        "        else:\n",
        "            print(\"Lütfen geçerli bir sos seçeneği girin (11-16) ya da 'q' girerek devam edin\")\n",
        "\n",
        "    # Toplam fiyatı hesaplama\n",
        "\n",
        "    print(pizza.get_cost())\n",
        "    print(sos.get_cost())\n",
        "\n",
        "    total_cost = float(pizza.price) + float(sos.price)\n",
        "    \n",
        "    print(\"Toplam fiyat: {} TL\".format(total_cost))\n",
        "\n",
        "    # Sipariş bilgilerini alma\n",
        "    name = input(\"Adınız: \")\n",
        "    user_id = input(\"TC Kimlik Numaranız: \")\n",
        "    credit_card_num = input(\"Kredi Kartı Numaranız: \")\n",
        "    credit_card_password = input(\"Kredi Kartı şifre: \")\n",
        "    print(\"Adınız: \" +name +\"Tc Kimlik No:\" + user_id + \"Kredi Kartı No \" + credit_card_num + \"Kredi Kart Sifresi: \"+ credit_card_password)\n",
        "\n",
        "    while True:\n",
        "      infoCheck = input(\"yukarıdaki bilgileriniz doğruluğunu kontrol ediniz doğru ise 1 tekrar girmek için 2 'ye basınn\\n\") \n",
        "   \n",
        "      if infoCheck == \"2\":\n",
        "        name = input(\"Adınız: \")\n",
        "        user_id = input(\"TC Kimlik Numaranız: \")\n",
        "        credit_card_num = input(\"Kredi Kartı Numaranız: \")\n",
        "        credit_card_password = input(\"Kredi Kartı şifre: \")\n",
        "      elif infoCheck == \"1\":\n",
        "        vt = sqlite3.connect('Orders_Database.csv.sqlite')\n",
        "        im = vt.cursor()\n",
        "     \n",
        "        deger= \"\"\"INSERT INTO sipariş_bilgileri\n",
        "                          (kullanıcı_adı, kullanıcı_kimliği, kredi_kartı_bilgileri,sipariş_açıklaması,sipariş_zamanı, kredi_kartı_şifresi)\n",
        "                           VALUES('\"\"\"+str(name) +\"','\" + str(user_id) + \"','\" + str(credit_card_num)+ \"','\" + \"siparis\" + \"','\" +str(datetime.datetime.now().date()) + \"','\" +credit_card_password+\"'\" + \"\"\")\"\"\"\n",
        "        print(deger)\n",
        "        im.execute(deger)\n",
        "        vt.commit()\n",
        "        break\n",
        "    \n",
        "\n",
        "\n",
        "\n",
        "\n",
        "\n",
        "\n",
        "\n",
        "\n",
        "   \n"
      ],
      "metadata": {
        "id": "dKzQUfjwpfMt",
        "colab": {
          "base_uri": "https://localhost:8080/",
          "height": 89
        },
        "outputId": "79040dd0-37d0-4e92-aec4-66db958dbdfe"
      },
      "execution_count": 175,
      "outputs": [
        {
          "output_type": "execute_result",
          "data": {
            "text/plain": [
              "'\\n    # Sipariş bilgilerini Orders_Database.csv dosyasına kaydetme\\n    def save_order_to_database(order):\\n      with open(\"Orders_Database.csv\", mode=\"a\", newline=\"\") as file:\\n        writer = csv.writer(file)\\n        writer.writerow([name, user_id, credit_card_num, credit_card_password, order_description, order])\\n        now = datetime.datetime.now()\\n        order_time = now.strftime(\"%Y-%m-%d %H:%M:%S\")\\n        order_description = pizza.get_description()\\n        order = save_order_to_database(name,user_id,total_cost, credit_card_num, credit_card_password)\\n'"
            ],
            "application/vnd.google.colaboratory.intrinsic+json": {
              "type": "string"
            }
          },
          "metadata": {},
          "execution_count": 175
        }
      ]
    },
    {
      "cell_type": "code",
      "source": [
        "print(main())"
      ],
      "metadata": {
        "colab": {
          "base_uri": "https://localhost:8080/"
        },
        "id": "dxjPobMlt-Yg",
        "outputId": "45f6a707-5e87-4499-e09d-d9eb060f3fe7"
      },
      "execution_count": 176,
      "outputs": [
        {
          "output_type": "stream",
          "name": "stdout",
          "text": [
            "* Lütfen Bir Pizza Tabanı Seçiniz:\n",
            "1: Klasik\n",
            "2: Margarita\n",
            "3: TürkPizza\n",
            "4: Sade Pizza\n",
            "* ve seçeceğiniz sos:\n",
            "11: Zeytin\n",
            "12: Mantarlar\n",
            "13: Keçi Peyniri\n",
            "14: Et\n",
            "15: Soğan\n",
            "16: Mısır\n",
            "* Teşekkür ederiz! \n",
            "\n",
            "Lütfen bir pizza seçin (1-4): 1\n",
            "Lütfen bir sos seçin (11-16) ya da devam etmek için 'q' girin: 11\n",
            "Lütfen bir sos seçin (11-16) ya da devam etmek için 'q' girin: q\n",
            "pizza fiyatı: 215₺\n",
            "None\n",
            "sos fiyatı: 5.0₺\n",
            "None\n",
            "Toplam fiyat: 220.0 TL\n",
            "Adınız: a\n",
            "TC Kimlik Numaranız: v\n",
            "Kredi Kartı Numaranız: g\n",
            "Kredi Kartı şifre: w\n",
            "Adınız: aTc Kimlik No:vKredi Kartı No gKredi Kart Sifresi: w\n",
            "yukarıdaki bilgileriniz doğruluğunu kontrol ediniz doğru ise 1 tekrar girmek için 2 'ye basınn\n",
            "1\n",
            "INSERT INTO sipariş_bilgileri\n",
            "                          (kullanıcı_adı, kullanıcı_kimliği, kredi_kartı_bilgileri,sipariş_açıklaması,sipariş_zamanı, kredi_kartı_şifresi)\n",
            "                           VALUES('a','v','g','siparis','2023-03-13','w')\n",
            "None\n"
          ]
        }
      ]
    },
    {
      "cell_type": "code",
      "source": [
        "vt = sqlite3.connect('Orders_Database.csv.sqlite')\n",
        "im = vt.cursor()\n",
        "im.execute(\"\"\"SELECT * FROM sipariş_bilgileri\"\"\")\n",
        "records = im.fetchall()\n",
        "\n",
        "for row in records:\n",
        "  print(\"Name = \", row)\n"
      ],
      "metadata": {
        "colab": {
          "base_uri": "https://localhost:8080/"
        },
        "id": "jIV42NB5CCek",
        "outputId": "2bb733a9-968f-4d0b-8414-84d8afadefb6"
      },
      "execution_count": 177,
      "outputs": [
        {
          "output_type": "stream",
          "name": "stdout",
          "text": [
            "Name =  ('James', '1', '1', 'siparis', '2019-03-17', '222')\n",
            "Name =  ('s', 'x', 'c', 'siparis', '2019-03-17', '222')\n",
            "Name =  ('a', 'v', 'g', 'siparis', '2023-03-13', 'w')\n"
          ]
        }
      ]
    }
  ]
}